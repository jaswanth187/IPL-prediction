{
 "cells": [
  {
   "cell_type": "code",
   "execution_count": 2,
   "id": "e01136a5",
   "metadata": {},
   "outputs": [],
   "source": [
    "import numpy as np\n",
    "import pandas as pd\n",
    "from matplotlib import pyplot as plt\n",
    "import sklearn\n",
    "import pickle as pkl"
   ]
  },
  {
   "cell_type": "code",
   "execution_count": 3,
   "id": "a77dfaea",
   "metadata": {},
   "outputs": [],
   "source": [
    "ipl=pd.read_csv('matches.csv')"
   ]
  },
  {
   "cell_type": "code",
   "execution_count": 4,
   "id": "274df913",
   "metadata": {},
   "outputs": [
    {
     "data": {
      "text/plain": [
       "(756, 18)"
      ]
     },
     "execution_count": 4,
     "metadata": {},
     "output_type": "execute_result"
    }
   ],
   "source": [
    "ipl.shape"
   ]
  },
  {
   "cell_type": "code",
   "execution_count": 5,
   "id": "9bb4dd09",
   "metadata": {},
   "outputs": [],
   "source": [
    "# these are the parameters used to as X\n",
    "new_ipl = ipl[['team1','team2','toss_decision','toss_winner','winner']]"
   ]
  },
  {
   "cell_type": "code",
   "execution_count": 6,
   "id": "3e023c32",
   "metadata": {},
   "outputs": [],
   "source": [
    "# remove the empty dataset \n",
    "new_ipl=new_ipl.dropna(inplace=False)"
   ]
  },
  {
   "cell_type": "code",
   "execution_count": 7,
   "id": "b0c9495b",
   "metadata": {},
   "outputs": [
    {
     "data": {
      "text/html": [
       "<div>\n",
       "<style scoped>\n",
       "    .dataframe tbody tr th:only-of-type {\n",
       "        vertical-align: middle;\n",
       "    }\n",
       "\n",
       "    .dataframe tbody tr th {\n",
       "        vertical-align: top;\n",
       "    }\n",
       "\n",
       "    .dataframe thead th {\n",
       "        text-align: right;\n",
       "    }\n",
       "</style>\n",
       "<table border=\"1\" class=\"dataframe\">\n",
       "  <thead>\n",
       "    <tr style=\"text-align: right;\">\n",
       "      <th></th>\n",
       "      <th>team1</th>\n",
       "      <th>team2</th>\n",
       "      <th>toss_decision</th>\n",
       "      <th>toss_winner</th>\n",
       "      <th>winner</th>\n",
       "    </tr>\n",
       "  </thead>\n",
       "  <tbody>\n",
       "    <tr>\n",
       "      <th>0</th>\n",
       "      <td>Sunrisers Hyderabad</td>\n",
       "      <td>Royal Challengers Bangalore</td>\n",
       "      <td>field</td>\n",
       "      <td>Royal Challengers Bangalore</td>\n",
       "      <td>Sunrisers Hyderabad</td>\n",
       "    </tr>\n",
       "    <tr>\n",
       "      <th>1</th>\n",
       "      <td>Mumbai Indians</td>\n",
       "      <td>Rising Pune Supergiant</td>\n",
       "      <td>field</td>\n",
       "      <td>Rising Pune Supergiant</td>\n",
       "      <td>Rising Pune Supergiant</td>\n",
       "    </tr>\n",
       "    <tr>\n",
       "      <th>2</th>\n",
       "      <td>Gujarat Lions</td>\n",
       "      <td>Kolkata Knight Riders</td>\n",
       "      <td>field</td>\n",
       "      <td>Kolkata Knight Riders</td>\n",
       "      <td>Kolkata Knight Riders</td>\n",
       "    </tr>\n",
       "    <tr>\n",
       "      <th>3</th>\n",
       "      <td>Rising Pune Supergiant</td>\n",
       "      <td>Kings XI Punjab</td>\n",
       "      <td>field</td>\n",
       "      <td>Kings XI Punjab</td>\n",
       "      <td>Kings XI Punjab</td>\n",
       "    </tr>\n",
       "    <tr>\n",
       "      <th>4</th>\n",
       "      <td>Royal Challengers Bangalore</td>\n",
       "      <td>Delhi Daredevils</td>\n",
       "      <td>bat</td>\n",
       "      <td>Royal Challengers Bangalore</td>\n",
       "      <td>Royal Challengers Bangalore</td>\n",
       "    </tr>\n",
       "    <tr>\n",
       "      <th>...</th>\n",
       "      <td>...</td>\n",
       "      <td>...</td>\n",
       "      <td>...</td>\n",
       "      <td>...</td>\n",
       "      <td>...</td>\n",
       "    </tr>\n",
       "    <tr>\n",
       "      <th>751</th>\n",
       "      <td>Kolkata Knight Riders</td>\n",
       "      <td>Mumbai Indians</td>\n",
       "      <td>field</td>\n",
       "      <td>Mumbai Indians</td>\n",
       "      <td>Mumbai Indians</td>\n",
       "    </tr>\n",
       "    <tr>\n",
       "      <th>752</th>\n",
       "      <td>Chennai Super Kings</td>\n",
       "      <td>Mumbai Indians</td>\n",
       "      <td>bat</td>\n",
       "      <td>Chennai Super Kings</td>\n",
       "      <td>Mumbai Indians</td>\n",
       "    </tr>\n",
       "    <tr>\n",
       "      <th>753</th>\n",
       "      <td>Sunrisers Hyderabad</td>\n",
       "      <td>Delhi Capitals</td>\n",
       "      <td>field</td>\n",
       "      <td>Delhi Capitals</td>\n",
       "      <td>Delhi Capitals</td>\n",
       "    </tr>\n",
       "    <tr>\n",
       "      <th>754</th>\n",
       "      <td>Delhi Capitals</td>\n",
       "      <td>Chennai Super Kings</td>\n",
       "      <td>field</td>\n",
       "      <td>Chennai Super Kings</td>\n",
       "      <td>Chennai Super Kings</td>\n",
       "    </tr>\n",
       "    <tr>\n",
       "      <th>755</th>\n",
       "      <td>Mumbai Indians</td>\n",
       "      <td>Chennai Super Kings</td>\n",
       "      <td>bat</td>\n",
       "      <td>Mumbai Indians</td>\n",
       "      <td>Mumbai Indians</td>\n",
       "    </tr>\n",
       "  </tbody>\n",
       "</table>\n",
       "<p>752 rows × 5 columns</p>\n",
       "</div>"
      ],
      "text/plain": [
       "                           team1                        team2 toss_decision  \\\n",
       "0            Sunrisers Hyderabad  Royal Challengers Bangalore         field   \n",
       "1                 Mumbai Indians       Rising Pune Supergiant         field   \n",
       "2                  Gujarat Lions        Kolkata Knight Riders         field   \n",
       "3         Rising Pune Supergiant              Kings XI Punjab         field   \n",
       "4    Royal Challengers Bangalore             Delhi Daredevils           bat   \n",
       "..                           ...                          ...           ...   \n",
       "751        Kolkata Knight Riders               Mumbai Indians         field   \n",
       "752          Chennai Super Kings               Mumbai Indians           bat   \n",
       "753          Sunrisers Hyderabad               Delhi Capitals         field   \n",
       "754               Delhi Capitals          Chennai Super Kings         field   \n",
       "755               Mumbai Indians          Chennai Super Kings           bat   \n",
       "\n",
       "                     toss_winner                       winner  \n",
       "0    Royal Challengers Bangalore          Sunrisers Hyderabad  \n",
       "1         Rising Pune Supergiant       Rising Pune Supergiant  \n",
       "2          Kolkata Knight Riders        Kolkata Knight Riders  \n",
       "3                Kings XI Punjab              Kings XI Punjab  \n",
       "4    Royal Challengers Bangalore  Royal Challengers Bangalore  \n",
       "..                           ...                          ...  \n",
       "751               Mumbai Indians               Mumbai Indians  \n",
       "752          Chennai Super Kings               Mumbai Indians  \n",
       "753               Delhi Capitals               Delhi Capitals  \n",
       "754          Chennai Super Kings          Chennai Super Kings  \n",
       "755               Mumbai Indians               Mumbai Indians  \n",
       "\n",
       "[752 rows x 5 columns]"
      ]
     },
     "execution_count": 7,
     "metadata": {},
     "output_type": "execute_result"
    }
   ],
   "source": [
    "new_ipl"
   ]
  },
  {
   "cell_type": "code",
   "execution_count": 7,
   "id": "f8048a64",
   "metadata": {},
   "outputs": [],
   "source": [
    "all_teams={}\n",
    "cnt=0\n",
    "x=len(ipl)\n",
    "for i in range(x):\n",
    "    if ipl.loc[i]['team1'] not in all_teams:\n",
    "        all_teams[ipl.loc[i]['team1']]=cnt\n",
    "        cnt+=1\n",
    "    if ipl.loc[i]['team2'] not in all_teams:\n",
    "        all_teams[ipl.loc[i]['team2']]=cnt\n",
    "        cnt+=1"
   ]
  },
  {
   "cell_type": "code",
   "execution_count": 8,
   "id": "17fb5e9f",
   "metadata": {},
   "outputs": [],
   "source": [
    "x=new_ipl[['team1','team2','toss_decision','toss_winner']]\n",
    "y=new_ipl[['winner']]"
   ]
  },
  {
   "cell_type": "code",
   "execution_count": 9,
   "id": "47f54f22",
   "metadata": {},
   "outputs": [],
   "source": [
    "encoded_teams={w:k for k,w in all_teams.items()}"
   ]
  },
  {
   "cell_type": "code",
   "execution_count": 10,
   "id": "5da4ccd6",
   "metadata": {},
   "outputs": [
    {
     "name": "stdout",
     "output_type": "stream",
     "text": [
      "{'Sunrisers Hyderabad': 0, 'Royal Challengers Bangalore': 1, 'Mumbai Indians': 2, 'Rising Pune Supergiant': 3, 'Gujarat Lions': 4, 'Kolkata Knight Riders': 5, 'Kings XI Punjab': 6, 'Delhi Daredevils': 7, 'Chennai Super Kings': 8, 'Rajasthan Royals': 9, 'Deccan Chargers': 10, 'Kochi Tuskers Kerala': 11, 'Pune Warriors': 12, 'Rising Pune Supergiants': 13, 'Delhi Capitals': 14}\n"
     ]
    }
   ],
   "source": [
    "X=np.array(x)\n",
    "Y=np.array(y)\n",
    "# print(X,Y)\n",
    "print(all_teams)\n",
    "# print(X[0][0],all_teams[X[0][0]])\n",
    "for i in range(len(X)):\n",
    "    X[i][0]=all_teams[X[i][0]]\n",
    "    X[i][1]=all_teams[X[i][1]]\n",
    "    X[i][3]=all_teams[X[i][3]]\n",
    "    Y[i][0]=all_teams[Y[i][0]]"
   ]
  },
  {
   "cell_type": "code",
   "execution_count": 11,
   "id": "d65cd645",
   "metadata": {},
   "outputs": [],
   "source": [
    "fb={'field':0,'bat':1}\n",
    "# changing the toss decision to 0 and 1\n",
    "for i in range(len(X)):\n",
    "    X[i][2]=fb[X[i][2]]\n",
    "    \n",
    "#changing the  toss winner to 0 and 1\n",
    "for i in range(len(X)):\n",
    "    if X[i][3] ==X[i][0]:\n",
    "        X[i][3]=0\n",
    "    else:\n",
    "        X[i][3]=1\n",
    "    "
   ]
  },
  {
   "cell_type": "code",
   "execution_count": 12,
   "id": "5b7a7133",
   "metadata": {},
   "outputs": [],
   "source": [
    "ones=0\n",
    "for i in range(len(Y)):\n",
    "    if Y[i][0]==X[i][1]:\n",
    "        if ones<370:\n",
    "            ones+=1\n",
    "            Y[i][0]=1\n",
    "        else:\n",
    "                X[i][0],X[i][1]=X[i][1],X[i][0]\n",
    "                Y[i][0]=0\n",
    "    else:\n",
    "        Y[i][0]=0"
   ]
  },
  {
   "cell_type": "code",
   "execution_count": 13,
   "id": "6067110a",
   "metadata": {},
   "outputs": [],
   "source": [
    "X=np.array(X,dtype='int32')\n",
    "# print(type(X[0][0]))\n",
    "Y=np.array(Y,dtype='int32')\n",
    "Y=Y.ravel()"
   ]
  },
  {
   "cell_type": "code",
   "execution_count": 14,
   "id": "98e4c839",
   "metadata": {},
   "outputs": [
    {
     "name": "stdout",
     "output_type": "stream",
     "text": [
      "(array([0, 1]), array([382, 370], dtype=int64))\n"
     ]
    }
   ],
   "source": [
    "print(np.unique(Y,return_counts=True))"
   ]
  },
  {
   "cell_type": "code",
   "execution_count": 15,
   "id": "5e83cab8",
   "metadata": {},
   "outputs": [],
   "source": [
    "from sklearn.model_selection import train_test_split\n",
    "x_train_set,x_test_set,y_train_set,y_test_set = train_test_split(X,Y,test_size=0.2)"
   ]
  },
  {
   "cell_type": "code",
   "execution_count": 16,
   "id": "734ebed3",
   "metadata": {},
   "outputs": [
    {
     "name": "stdout",
     "output_type": "stream",
     "text": [
      "601 151 601 151\n",
      "[[ 6  7  0  1]\n",
      " [ 1  4  1  0]\n",
      " [ 6  0  0  1]\n",
      " ...\n",
      " [ 1 12  0  1]\n",
      " [ 2  1  1  0]\n",
      " [ 2  0  0  1]]\n"
     ]
    }
   ],
   "source": [
    "print(len(x_train_set),len(x_test_set),len(y_train_set),len(y_test_set))\n",
    "print(x_train_set)"
   ]
  },
  {
   "cell_type": "code",
   "execution_count": 17,
   "id": "f707a0aa",
   "metadata": {},
   "outputs": [
    {
     "data": {
      "text/plain": [
       "0.5894039735099338"
      ]
     },
     "execution_count": 17,
     "metadata": {},
     "output_type": "execute_result"
    }
   ],
   "source": [
    "from sklearn.ensemble import RandomForestClassifier\n",
    "model3= RandomForestClassifier(n_estimators=250).fit(x_train_set,y_train_set)\n",
    "model3.score(x_test_set,y_test_set)"
   ]
  },
  {
   "cell_type": "code",
   "execution_count": 18,
   "id": "64941b1a",
   "metadata": {},
   "outputs": [
    {
     "data": {
      "text/plain": [
       "0.5740432612312812"
      ]
     },
     "execution_count": 18,
     "metadata": {},
     "output_type": "execute_result"
    }
   ],
   "source": [
    "from sklearn.svm import SVC\n",
    "model1=SVC().fit(x_train_set,y_train_set)\n",
    "model1.score(x_train_set,y_train_set)"
   ]
  },
  {
   "cell_type": "code",
   "execution_count": 19,
   "id": "7236e5a6",
   "metadata": {},
   "outputs": [
    {
     "data": {
      "text/plain": [
       "0.7371048252911814"
      ]
     },
     "execution_count": 19,
     "metadata": {},
     "output_type": "execute_result"
    }
   ],
   "source": [
    "from sklearn.tree import DecisionTreeClassifier\n",
    "model2=DecisionTreeClassifier().fit(x_train_set,y_train_set)\n",
    "model2.score(x_train_set,y_train_set)"
   ]
  },
  {
   "cell_type": "code",
   "execution_count": 20,
   "id": "b580d366",
   "metadata": {},
   "outputs": [
    {
     "data": {
      "text/plain": [
       "array([1])"
      ]
     },
     "execution_count": 20,
     "metadata": {},
     "output_type": "execute_result"
    }
   ],
   "source": [
    "test=np.array([0,1,0,0]).reshape(1,-1)\n",
    "model2.predict(test)"
   ]
  },
  {
   "cell_type": "code",
   "execution_count": 21,
   "id": "26d470cb",
   "metadata": {},
   "outputs": [],
   "source": [
    "import pickle as pkl\n",
    "with open('model.pkl','wb') as f:\n",
    "    pkl.dump(model2,f)"
   ]
  },
  {
   "cell_type": "code",
   "execution_count": 22,
   "id": "bea279c8",
   "metadata": {},
   "outputs": [],
   "source": [
    "with open('vocab.pkl','wb') as f:\n",
    "    pkl.dump(encoded_teams,f)\n",
    "with open('inv_vocab.pkl','wb') as f:\n",
    "    pkl.dump(all_teams,f)"
   ]
  },
  {
   "cell_type": "code",
   "execution_count": null,
   "id": "880732f6",
   "metadata": {},
   "outputs": [],
   "source": []
  }
 ],
 "metadata": {
  "kernelspec": {
   "display_name": "Python 3",
   "language": "python",
   "name": "python3"
  },
  "language_info": {
   "codemirror_mode": {
    "name": "ipython",
    "version": 3
   },
   "file_extension": ".py",
   "mimetype": "text/x-python",
   "name": "python",
   "nbconvert_exporter": "python",
   "pygments_lexer": "ipython3",
   "version": "3.9.2"
  }
 },
 "nbformat": 4,
 "nbformat_minor": 5
}
