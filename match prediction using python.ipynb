{
 "cells": [
  {
   "cell_type": "code",
   "execution_count": 9,
   "id": "3313234b",
   "metadata": {},
   "outputs": [],
   "source": [
    "import numpy as np\n",
    "import pandas as pd\n",
    "from matplotlib import pyplot as plt\n",
    "import sklearn\n",
    "import pickle as pkl"
   ]
  },
  {
   "cell_type": "code",
   "execution_count": 10,
   "id": "f4908a59",
   "metadata": {},
   "outputs": [],
   "source": [
    "ipl=pd.read_csv('matches.csv')"
   ]
  },
  {
   "cell_type": "code",
   "execution_count": 11,
   "id": "cf037b6f",
   "metadata": {},
   "outputs": [
    {
     "data": {
      "text/plain": [
       "(756, 18)"
      ]
     },
     "execution_count": 11,
     "metadata": {},
     "output_type": "execute_result"
    }
   ],
   "source": [
    "ipl.shape"
   ]
  },
  {
   "cell_type": "code",
   "execution_count": 12,
   "id": "f85be196",
   "metadata": {},
   "outputs": [],
   "source": [
    "new_ipl = ipl[['team1','team2','toss_decision','toss_winner','winner']]"
   ]
  },
  {
   "cell_type": "code",
   "execution_count": 13,
   "id": "7caaabe7",
   "metadata": {},
   "outputs": [],
   "source": [
    "final_data=new_ipl.dropna(inplace=False)"
   ]
  },
  {
   "cell_type": "code",
   "execution_count": 14,
   "id": "9e1fda7c",
   "metadata": {},
   "outputs": [],
   "source": [
    "all_teams={}"
   ]
  },
  {
   "cell_type": "code",
   "execution_count": 15,
   "id": "40ed34aa",
   "metadata": {},
   "outputs": [
    {
     "name": "stdout",
     "output_type": "stream",
     "text": [
      "{'Sunrisers Hyderabad': 0, 'Royal Challengers Bangalore': 1, 'Mumbai Indians': 2, 'Rising Pune Supergiant': 3, 'Gujarat Lions': 4, 'Kolkata Knight Riders': 5, 'Kings XI Punjab': 6, 'Delhi Daredevils': 7, 'Chennai Super Kings': 8, 'Rajasthan Royals': 9, 'Deccan Chargers': 10, 'Kochi Tuskers Kerala': 11, 'Pune Warriors': 12, 'Rising Pune Supergiants': 13, 'Delhi Capitals': 14}\n"
     ]
    }
   ],
   "source": [
    "cnt=0\n",
    "for i in range(len(ipl)):\n",
    "    if ipl.loc[i]['team1'] not in all_teams:\n",
    "        all_teams[ipl.loc[i]['team1']] =cnt\n",
    "        cnt+=1\n",
    "        \n",
    "    if ipl.loc[i]['team2'] not in all_teams:\n",
    "        all_teams[ipl.loc[i]['team2']] =cnt\n",
    "        cnt+=1\n",
    "print(all_teams)"
   ]
  },
  {
   "cell_type": "code",
   "execution_count": 16,
   "id": "829bf704",
   "metadata": {},
   "outputs": [],
   "source": [
    "x= final_data[['team1','team2','toss_decision','toss_winner']]\n",
    "y= final_data[['winner']]"
   ]
  },
  {
   "cell_type": "code",
   "execution_count": 17,
   "id": "de015149",
   "metadata": {},
   "outputs": [],
   "source": [
    "X=np.array(x)\n",
    "y=np.array(y)\n",
    "\n",
    "for i in range(len(X)):\n",
    "    X[i][0] = all_teams[X[i][0]]\n",
    "    X[i][1] = all_teams[X[i][1]]\n",
    "    X[i][3] = all_teams[X[i][3]]\n",
    "    \n",
    "    y[i][0] = all_teams[y[i][0]]\n",
    "    "
   ]
  },
  {
   "cell_type": "code",
   "execution_count": 18,
   "id": "70af5693",
   "metadata": {},
   "outputs": [],
   "source": [
    "fb ={'field':0,'bat':1}\n",
    "\n",
    "for i in range(len(X)):\n",
    "    X[i][2] =fb[X[i][2]]\n",
    "    \n",
    "for i in range(len(X)):\n",
    "    if X[i][3] ==X[i][0]:\n",
    "        X[i][3] =0\n",
    "    else:\n",
    "        X[i][3]=1"
   ]
  },
  {
   "cell_type": "code",
   "execution_count": 19,
   "id": "04e28cb3",
   "metadata": {},
   "outputs": [],
   "source": [
    "ones=0\n",
    "for i in range(len(y)):\n",
    "    if y[i][0] ==X[1][1]:\n",
    "        if ones<370:\n",
    "            ones+=1\n",
    "            y[i][0] =1\n",
    "        else:\n",
    "            t=X[i][0]\n",
    "            X[i][0] =X[i][1]\n",
    "            X[i][1] =t\n",
    "            \n",
    "            y[i][0]=0\n",
    "    else:\n",
    "        y[i][0]=0"
   ]
  },
  {
   "cell_type": "code",
   "execution_count": 20,
   "id": "3d905098",
   "metadata": {},
   "outputs": [],
   "source": [
    "X=np.array(X, dtype='int32') \n",
    "y=np.array(y, dtype='int32') \n"
   ]
  },
  {
   "cell_type": "code",
   "execution_count": 21,
   "id": "45ae516d",
   "metadata": {},
   "outputs": [
    {
     "name": "stdout",
     "output_type": "stream",
     "text": [
      "(array([0, 1]), array([742,  10], dtype=int64))\n"
     ]
    }
   ],
   "source": [
    "y=y.ravel()\n",
    "print(np.unique(y,return_counts=True))\n",
    "from sklearn.model_selection import train_test_split\n",
    "X_train,X_test,y_train,y_test=train_test_split(X,y,test_size=0.1)"
   ]
  },
  {
   "cell_type": "code",
   "execution_count": 22,
   "id": "423a6b07",
   "metadata": {},
   "outputs": [
    {
     "data": {
      "text/plain": [
       "0.9605263157894737"
      ]
     },
     "execution_count": 22,
     "metadata": {},
     "output_type": "execute_result"
    }
   ],
   "source": [
    "from sklearn.svm import SVC\n",
    "model1=SVC().fit(X_train,y_train)\n",
    "model1.score(X_test,y_test)"
   ]
  },
  {
   "cell_type": "code",
   "execution_count": 23,
   "id": "804cc50e",
   "metadata": {},
   "outputs": [
    {
     "data": {
      "text/plain": [
       "1.0"
      ]
     },
     "execution_count": 23,
     "metadata": {},
     "output_type": "execute_result"
    }
   ],
   "source": [
    "from sklearn.tree import DecisionTreeClassifier\n",
    "model2=DecisionTreeClassifier().fit(X_train,y_train)\n",
    "model2.score(X_test,y_test)"
   ]
  },
  {
   "cell_type": "code",
   "execution_count": 24,
   "id": "74234154",
   "metadata": {},
   "outputs": [
    {
     "data": {
      "text/plain": [
       "1.0"
      ]
     },
     "execution_count": 24,
     "metadata": {},
     "output_type": "execute_result"
    }
   ],
   "source": [
    "from sklearn.ensemble import RandomForestClassifier\n",
    "model3= RandomForestClassifier(n_estimators=200).fit(X_train,y_train)\n",
    "model3.score(X_test,y_test)"
   ]
  },
  {
   "cell_type": "code",
   "execution_count": 25,
   "id": "ae3e8b34",
   "metadata": {},
   "outputs": [
    {
     "data": {
      "text/plain": [
       "array([0])"
      ]
     },
     "execution_count": 25,
     "metadata": {},
     "output_type": "execute_result"
    }
   ],
   "source": [
    "import numpy as np\n",
    "test =np.array([1,2,0,0]).reshape(1,-1)\n",
    "model1.predict(test)\n",
    "model2.predict(test)\n",
    "model3.predict(test)"
   ]
  },
  {
   "cell_type": "code",
   "execution_count": 6,
   "id": "5d360630",
   "metadata": {},
   "outputs": [],
   "source": [
    "# import pickle as pkl\n",
    "# with open('model.pkl','wb') as f:\n",
    "#     pkl.dump(model3,f)"
   ]
  },
  {
   "cell_type": "code",
   "execution_count": 8,
   "id": "f86c2da7",
   "metadata": {},
   "outputs": [],
   "source": [
    "with open('model2.pkl','rb') as f:\n",
    "    model =pkl.load(f)\n",
    "    \n",
    "arr=np,array()"
   ]
  },
  {
   "cell_type": "code",
   "execution_count": null,
   "id": "cce8ef91",
   "metadata": {},
   "outputs": [],
   "source": []
  }
 ],
 "metadata": {
  "kernelspec": {
   "display_name": "Python 3",
   "language": "python",
   "name": "python3"
  },
  "language_info": {
   "codemirror_mode": {
    "name": "ipython",
    "version": 3
   },
   "file_extension": ".py",
   "mimetype": "text/x-python",
   "name": "python",
   "nbconvert_exporter": "python",
   "pygments_lexer": "ipython3",
   "version": "3.9.2"
  }
 },
 "nbformat": 4,
 "nbformat_minor": 5
}
